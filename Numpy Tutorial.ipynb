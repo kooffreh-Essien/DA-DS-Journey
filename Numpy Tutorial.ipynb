{
 "cells": [
  {
   "cell_type": "markdown",
   "id": "522ce3e2",
   "metadata": {},
   "source": [
    "## Numerical Python (Numpy)"
   ]
  },
  {
   "cell_type": "markdown",
   "id": "11366c12",
   "metadata": {},
   "source": [
    "NumPy is the fundamental package for scientific computing in Python. The main benefit of Numpy is its powerful N-dimensional array object that it provides. An array is collection of items stored at contiguous memory locations. \n",
    "\n",
    "The idea is to store multiple items of same type together. https://numpy.org/doc/stable/"
   ]
  },
  {
   "cell_type": "markdown",
   "id": "972334f5",
   "metadata": {},
   "source": [
    "### Creating one-dimensional array"
   ]
  },
  {
   "cell_type": "code",
   "execution_count": 1,
   "id": "91ee075d",
   "metadata": {},
   "outputs": [],
   "source": [
    "#importing the numpy library\n",
    "import numpy as np"
   ]
  },
  {
   "cell_type": "code",
   "execution_count": 2,
   "id": "84977d06",
   "metadata": {},
   "outputs": [
    {
     "data": {
      "text/plain": [
       "array([1, 2, 3, 4, 5])"
      ]
     },
     "execution_count": 2,
     "metadata": {},
     "output_type": "execute_result"
    }
   ],
   "source": [
    "firstlist = [1, 2, 3, 4, 5] #Creating a list\n",
    "a = np.array(firstlist) # Passing the list as a numpy array using np.array\n",
    "a"
   ]
  },
  {
   "cell_type": "code",
   "execution_count": 4,
   "id": "afc17aeb",
   "metadata": {},
   "outputs": [
    {
     "data": {
      "text/plain": [
       "list"
      ]
     },
     "execution_count": 4,
     "metadata": {},
     "output_type": "execute_result"
    }
   ],
   "source": [
    "#type of list\n",
    "type(firstlist)"
   ]
  },
  {
   "cell_type": "code",
   "execution_count": 5,
   "id": "d5d76f2d",
   "metadata": {},
   "outputs": [
    {
     "data": {
      "text/plain": [
       "numpy.ndarray"
      ]
     },
     "execution_count": 5,
     "metadata": {},
     "output_type": "execute_result"
    }
   ],
   "source": [
    "#type of a\n",
    "type(a)"
   ]
  },
  {
   "cell_type": "code",
   "execution_count": 21,
   "id": "1818a22e",
   "metadata": {},
   "outputs": [
    {
     "data": {
      "text/plain": [
       "1"
      ]
     },
     "execution_count": 21,
     "metadata": {},
     "output_type": "execute_result"
    }
   ],
   "source": [
    "a.ndim #Dimension of the array"
   ]
  },
  {
   "cell_type": "code",
   "execution_count": 25,
   "id": "9ed0b369",
   "metadata": {},
   "outputs": [
    {
     "data": {
      "text/plain": [
       "5"
      ]
     },
     "execution_count": 25,
     "metadata": {},
     "output_type": "execute_result"
    }
   ],
   "source": [
    "a.size  #size is used to know the array length"
   ]
  },
  {
   "cell_type": "markdown",
   "id": "0df77fbb",
   "metadata": {},
   "source": [
    "### Creating multidimensional array"
   ]
  },
  {
   "cell_type": "code",
   "execution_count": 26,
   "id": "6e091edf",
   "metadata": {},
   "outputs": [
    {
     "data": {
      "text/plain": [
       "array([[ 1,  2,  3,  4],\n",
       "       [ 5,  6,  7,  8],\n",
       "       [ 9, 10, 11, 12]])"
      ]
     },
     "execution_count": 26,
     "metadata": {},
     "output_type": "execute_result"
    }
   ],
   "source": [
    "list_of_lists = np.array ([[1,2,3,4], [5,6,7,8], [9,10,11,12]])\n",
    "list_of_lists"
   ]
  },
  {
   "cell_type": "code",
   "execution_count": 27,
   "id": "30053508",
   "metadata": {},
   "outputs": [
    {
     "data": {
      "text/plain": [
       "(3, 4)"
      ]
     },
     "execution_count": 27,
     "metadata": {},
     "output_type": "execute_result"
    }
   ],
   "source": [
    "#Using the shape method to find the dimensions of the array (rows, columns)\n",
    "list_of_lists.shape"
   ]
  },
  {
   "cell_type": "code",
   "execution_count": 28,
   "id": "cd6e21ac",
   "metadata": {
    "scrolled": true
   },
   "outputs": [
    {
     "data": {
      "text/plain": [
       "2"
      ]
     },
     "execution_count": 28,
     "metadata": {},
     "output_type": "execute_result"
    }
   ],
   "source": [
    "list_of_lists.ndim #dimension of array"
   ]
  },
  {
   "cell_type": "code",
   "execution_count": 55,
   "id": "10ae3307",
   "metadata": {},
   "outputs": [
    {
     "data": {
      "text/plain": [
       "12"
      ]
     },
     "execution_count": 55,
     "metadata": {},
     "output_type": "execute_result"
    }
   ],
   "source": [
    "list_of_lists.size #size is used to know the array length"
   ]
  },
  {
   "cell_type": "code",
   "execution_count": 56,
   "id": "6a026839",
   "metadata": {},
   "outputs": [
    {
     "data": {
      "text/plain": [
       "array([ 0,  1,  2,  3,  4,  5,  6,  7,  8,  9, 10, 11, 12, 13, 14, 15, 16,\n",
       "       17, 18, 19])"
      ]
     },
     "execution_count": 56,
     "metadata": {},
     "output_type": "execute_result"
    }
   ],
   "source": [
    "#Using arrange method to return evenly spaced value within a given interval\n",
    "\n",
    "\n",
    "np.arange(0,20) #Starts from zero and generates 20 numbers. Note it wont include the last digit"
   ]
  },
  {
   "cell_type": "code",
   "execution_count": 57,
   "id": "5ce48063",
   "metadata": {},
   "outputs": [
    {
     "data": {
      "text/plain": [
       "array([ 0,  1,  2,  3,  4,  5,  6,  7,  8,  9, 10, 11, 12, 13, 14, 15, 16,\n",
       "       17, 18, 19])"
      ]
     },
     "execution_count": 57,
     "metadata": {},
     "output_type": "execute_result"
    }
   ],
   "source": [
    "ar = np.arange(20) #Numpy will intelligently generate 20 numbers starting from zero and also exclude the last digit\n",
    "ar"
   ]
  },
  {
   "cell_type": "code",
   "execution_count": 58,
   "id": "b5355852",
   "metadata": {},
   "outputs": [
    {
     "data": {
      "text/plain": [
       "array([ 0,  2,  4,  6,  8, 10, 12, 14, 16, 18])"
      ]
     },
     "execution_count": 58,
     "metadata": {},
     "output_type": "execute_result"
    }
   ],
   "source": [
    "np.arange(0,20,2) #generate 20 numbers from 0 to 20 with an interval of 2"
   ]
  },
  {
   "cell_type": "code",
   "execution_count": 59,
   "id": "ac6a135f",
   "metadata": {},
   "outputs": [
    {
     "name": "stdout",
     "output_type": "stream",
     "text": [
      "0\n",
      "3\n",
      "6\n",
      "9\n",
      "12\n",
      "15\n",
      "18\n"
     ]
    }
   ],
   "source": [
    "for i in range(0,20,3):  #using for loop to generate numbers ranging from 0 to 20 with interval of 3\n",
    "    print(i)"
   ]
  },
  {
   "cell_type": "code",
   "execution_count": 60,
   "id": "6b395f9b",
   "metadata": {},
   "outputs": [
    {
     "data": {
      "text/plain": [
       "array([0., 0., 0., 0., 0., 0., 0., 0., 0., 0.])"
      ]
     },
     "execution_count": 60,
     "metadata": {},
     "output_type": "execute_result"
    }
   ],
   "source": [
    "zero = np.zeros(10) #returns an array filled with zeros\n",
    "zero"
   ]
  },
  {
   "cell_type": "code",
   "execution_count": 61,
   "id": "b460e75b",
   "metadata": {},
   "outputs": [
    {
     "data": {
      "text/plain": [
       "array([[0., 0., 0., 0.],\n",
       "       [0., 0., 0., 0.],\n",
       "       [0., 0., 0., 0.]])"
      ]
     },
     "execution_count": 61,
     "metadata": {},
     "output_type": "execute_result"
    }
   ],
   "source": [
    "zero = np.zeros((3,4)) #returns an array with shape (3,4) filled with zeros\n",
    "zero"
   ]
  },
  {
   "cell_type": "code",
   "execution_count": 62,
   "id": "c7f7cc63",
   "metadata": {},
   "outputs": [
    {
     "data": {
      "text/plain": [
       "array([[1., 1., 1., 1.],\n",
       "       [1., 1., 1., 1.],\n",
       "       [1., 1., 1., 1.]])"
      ]
     },
     "execution_count": 62,
     "metadata": {},
     "output_type": "execute_result"
    }
   ],
   "source": [
    "np.ones((3,4)) #returns an array of given shape filled with ones"
   ]
  },
  {
   "cell_type": "code",
   "execution_count": 63,
   "id": "3b853165",
   "metadata": {},
   "outputs": [
    {
     "data": {
      "text/plain": [
       "array([[1., 0., 0., 0., 0., 0., 0., 0., 0., 0.],\n",
       "       [0., 1., 0., 0., 0., 0., 0., 0., 0., 0.],\n",
       "       [0., 0., 1., 0., 0., 0., 0., 0., 0., 0.],\n",
       "       [0., 0., 0., 1., 0., 0., 0., 0., 0., 0.],\n",
       "       [0., 0., 0., 0., 1., 0., 0., 0., 0., 0.],\n",
       "       [0., 0., 0., 0., 0., 1., 0., 0., 0., 0.],\n",
       "       [0., 0., 0., 0., 0., 0., 1., 0., 0., 0.],\n",
       "       [0., 0., 0., 0., 0., 0., 0., 1., 0., 0.],\n",
       "       [0., 0., 0., 0., 0., 0., 0., 0., 1., 0.],\n",
       "       [0., 0., 0., 0., 0., 0., 0., 0., 0., 1.]])"
      ]
     },
     "execution_count": 63,
     "metadata": {},
     "output_type": "execute_result"
    }
   ],
   "source": [
    "np.eye(10) #returns 1 along the diagonal 10 times"
   ]
  },
  {
   "cell_type": "code",
   "execution_count": 64,
   "id": "7606a707",
   "metadata": {},
   "outputs": [
    {
     "data": {
      "text/plain": [
       "array([ 0,  1,  2,  3,  4,  5,  6,  7,  8,  9, 10, 11, 12, 13, 14, 15, 16,\n",
       "       17, 18, 19])"
      ]
     },
     "execution_count": 64,
     "metadata": {},
     "output_type": "execute_result"
    }
   ],
   "source": [
    "ar"
   ]
  },
  {
   "cell_type": "code",
   "execution_count": 65,
   "id": "3b2d6b25",
   "metadata": {},
   "outputs": [
    {
     "data": {
      "text/plain": [
       "20"
      ]
     },
     "execution_count": 65,
     "metadata": {},
     "output_type": "execute_result"
    }
   ],
   "source": [
    "len(ar) #length of array"
   ]
  },
  {
   "cell_type": "code",
   "execution_count": 66,
   "id": "19aabc67",
   "metadata": {},
   "outputs": [
    {
     "data": {
      "text/plain": [
       "array([[ 0,  1,  2,  3],\n",
       "       [ 4,  5,  6,  7],\n",
       "       [ 8,  9, 10, 11],\n",
       "       [12, 13, 14, 15],\n",
       "       [16, 17, 18, 19]])"
      ]
     },
     "execution_count": 66,
     "metadata": {},
     "output_type": "execute_result"
    }
   ],
   "source": [
    "#creates a new shape to an array without changing its data N/B:The shape should be equal to the length of the array\n",
    "\n",
    "new_variable = ar.reshape(5,4)\n",
    "new_variable"
   ]
  },
  {
   "cell_type": "code",
   "execution_count": 67,
   "id": "d17963ed",
   "metadata": {},
   "outputs": [
    {
     "data": {
      "text/plain": [
       "array([ 0,  1,  2,  3,  4,  5,  6,  7,  8,  9, 10, 11, 12, 13, 14, 15, 16,\n",
       "       17, 18, 19])"
      ]
     },
     "execution_count": 67,
     "metadata": {},
     "output_type": "execute_result"
    }
   ],
   "source": [
    "ar"
   ]
  },
  {
   "cell_type": "code",
   "execution_count": 68,
   "id": "8ec858ee",
   "metadata": {},
   "outputs": [
    {
     "data": {
      "text/plain": [
       "array([0.        , 0.77777778, 1.55555556, 2.33333333, 3.11111111,\n",
       "       3.88888889, 4.66666667, 5.44444444, 6.22222222, 7.        ])"
      ]
     },
     "execution_count": 68,
     "metadata": {},
     "output_type": "execute_result"
    }
   ],
   "source": [
    "#returns 10 equally spaced values from 0 to 7. N/B: This will always give decimals comapred to the arange function\n",
    "b = np.linspace(0,7,10)\n",
    "b"
   ]
  },
  {
   "cell_type": "code",
   "execution_count": 69,
   "id": "b53838a0",
   "metadata": {},
   "outputs": [
    {
     "data": {
      "text/plain": [
       "10"
      ]
     },
     "execution_count": 69,
     "metadata": {},
     "output_type": "execute_result"
    }
   ],
   "source": [
    "len(b)"
   ]
  },
  {
   "cell_type": "code",
   "execution_count": 70,
   "id": "1bf8ad94",
   "metadata": {},
   "outputs": [
    {
     "data": {
      "text/plain": [
       "array([[0.        , 0.77777778],\n",
       "       [1.55555556, 2.33333333],\n",
       "       [3.11111111, 3.88888889],\n",
       "       [4.66666667, 5.44444444],\n",
       "       [6.22222222, 7.        ]])"
      ]
     },
     "execution_count": 70,
     "metadata": {},
     "output_type": "execute_result"
    }
   ],
   "source": [
    "b.resize(5,2) #This will create anew shape but alter the data\n",
    "b"
   ]
  },
  {
   "cell_type": "code",
   "execution_count": 71,
   "id": "34602751",
   "metadata": {},
   "outputs": [
    {
     "data": {
      "text/plain": [
       "array([[0.        , 0.77777778],\n",
       "       [1.55555556, 2.33333333],\n",
       "       [3.11111111, 3.88888889],\n",
       "       [4.66666667, 5.44444444],\n",
       "       [6.22222222, 7.        ]])"
      ]
     },
     "execution_count": 71,
     "metadata": {},
     "output_type": "execute_result"
    }
   ],
   "source": [
    "b"
   ]
  },
  {
   "cell_type": "markdown",
   "id": "db3e0f6f",
   "metadata": {},
   "source": [
    "Difference between resize and reshape is that it will reshape will not ulter the array unlike resize which will ulter the array."
   ]
  },
  {
   "cell_type": "code",
   "execution_count": null,
   "id": "9dd1a926",
   "metadata": {},
   "outputs": [],
   "source": []
  },
  {
   "cell_type": "code",
   "execution_count": null,
   "id": "4373225a",
   "metadata": {},
   "outputs": [],
   "source": []
  },
  {
   "cell_type": "markdown",
   "id": "dba6ff89",
   "metadata": {},
   "source": [
    "## Generating random values"
   ]
  },
  {
   "cell_type": "code",
   "execution_count": 72,
   "id": "8f220789",
   "metadata": {},
   "outputs": [
    {
     "data": {
      "text/plain": [
       "array([[0.98446302, 0.01784384, 0.92425107],\n",
       "       [0.9400648 , 0.63509081, 0.38180943],\n",
       "       [0.682176  , 0.86212197, 0.75691992],\n",
       "       [0.4418638 , 0.51905563, 0.79312491],\n",
       "       [0.23117898, 0.46053419, 0.05691184]])"
      ]
     },
     "execution_count": 72,
     "metadata": {},
     "output_type": "execute_result"
    }
   ],
   "source": [
    "#Creates an aray with given shape and populate it with random samples.\n",
    "\n",
    "np.random.rand(5,3)"
   ]
  },
  {
   "cell_type": "code",
   "execution_count": 75,
   "id": "b462b47b",
   "metadata": {},
   "outputs": [
    {
     "data": {
      "text/plain": [
       "array([[-1.21655713,  0.29679897,  1.02514975],\n",
       "       [-1.06337838, -2.07946284,  1.5823705 ],\n",
       "       [-1.08694163,  0.64464825, -1.28872901]])"
      ]
     },
     "execution_count": 75,
     "metadata": {},
     "output_type": "execute_result"
    }
   ],
   "source": [
    "#Return a sample (or samples) from the “standard normal” distribution.\n",
    "c = np.random.randn(3,3)\n",
    "c"
   ]
  },
  {
   "cell_type": "code",
   "execution_count": 77,
   "id": "32fba31d",
   "metadata": {},
   "outputs": [
    {
     "data": {
      "text/plain": [
       "array([23,  3, 23,  7, 42, 23, 35,  3, 10, 29, 23])"
      ]
     },
     "execution_count": 77,
     "metadata": {},
     "output_type": "execute_result"
    }
   ],
   "source": [
    "#Return 11 random integers from 2 to 50\n",
    "kk = np.random.randint(2, 50, 11)\n",
    "kk"
   ]
  },
  {
   "cell_type": "code",
   "execution_count": 80,
   "id": "6c74aad5",
   "metadata": {},
   "outputs": [
    {
     "data": {
      "text/plain": [
       "array([[37,  3,  3, 14],\n",
       "       [14, 37, 37, 38],\n",
       "       [26, 37, 49, 26],\n",
       "       [35, 28, 44, 21],\n",
       "       [15, 45, 19,  7]])"
      ]
     },
     "execution_count": 80,
     "metadata": {},
     "output_type": "execute_result"
    }
   ],
   "source": [
    "#return random number from 2 to 50 with shape\n",
    "kk = np.random.randint(2,50, (5,4))\n",
    "kk"
   ]
  },
  {
   "cell_type": "code",
   "execution_count": null,
   "id": "fbdc65d8",
   "metadata": {},
   "outputs": [],
   "source": []
  },
  {
   "cell_type": "code",
   "execution_count": null,
   "id": "4fd1714a",
   "metadata": {},
   "outputs": [],
   "source": []
  },
  {
   "cell_type": "markdown",
   "id": "0131d27a",
   "metadata": {},
   "source": [
    "## Indexing and Slicing"
   ]
  },
  {
   "cell_type": "code",
   "execution_count": 82,
   "id": "d815168d",
   "metadata": {},
   "outputs": [
    {
     "data": {
      "text/plain": [
       "array([41,  2, 45, 12,  2,  3, 21, 18, 19, 37, 42])"
      ]
     },
     "execution_count": 82,
     "metadata": {},
     "output_type": "execute_result"
    }
   ],
   "source": [
    "kk = np.random.randint(2,50,11)\n",
    "kk"
   ]
  },
  {
   "cell_type": "code",
   "execution_count": 83,
   "id": "6577b791",
   "metadata": {},
   "outputs": [
    {
     "data": {
      "text/plain": [
       "2"
      ]
     },
     "execution_count": 83,
     "metadata": {},
     "output_type": "execute_result"
    }
   ],
   "source": [
    "kk[1] #returns index position of 1. N/B: counting begins from 0 index"
   ]
  },
  {
   "cell_type": "code",
   "execution_count": 84,
   "id": "3951a51b",
   "metadata": {},
   "outputs": [
    {
     "data": {
      "text/plain": [
       "42"
      ]
     },
     "execution_count": 84,
     "metadata": {},
     "output_type": "execute_result"
    }
   ],
   "source": [
    "kk[-1] #returns index position from behind"
   ]
  },
  {
   "cell_type": "code",
   "execution_count": 85,
   "id": "80b7d298",
   "metadata": {},
   "outputs": [
    {
     "data": {
      "text/plain": [
       "array([12,  2,  3, 21])"
      ]
     },
     "execution_count": 85,
     "metadata": {},
     "output_type": "execute_result"
    }
   ],
   "source": [
    "kk[3:7] # selecting item within a range but doesnt include the last number"
   ]
  },
  {
   "cell_type": "code",
   "execution_count": 96,
   "id": "bf2050b9",
   "metadata": {},
   "outputs": [
    {
     "data": {
      "text/plain": [
       "array([ 0,  1,  2,  3,  4,  5,  6,  7,  8,  9, 10, 11, 12, 13, 14, 15, 16,\n",
       "       17, 18, 19, 20, 21, 22, 23, 24, 25, 26, 27, 28, 29, 30, 31, 32, 33,\n",
       "       34, 35, 36, 37, 38, 39, 40, 41, 42, 43, 44, 45, 46, 47, 48, 49])"
      ]
     },
     "execution_count": 96,
     "metadata": {},
     "output_type": "execute_result"
    }
   ],
   "source": [
    "kc = np.arange(50)\n",
    "kc"
   ]
  },
  {
   "cell_type": "code",
   "execution_count": 97,
   "id": "92a00114",
   "metadata": {},
   "outputs": [
    {
     "data": {
      "text/plain": [
       "array([[ 0,  1,  2,  3,  4],\n",
       "       [ 5,  6,  7,  8,  9],\n",
       "       [10, 11, 12, 13, 14],\n",
       "       [15, 16, 17, 18, 19],\n",
       "       [20, 21, 22, 23, 24],\n",
       "       [25, 26, 27, 28, 29],\n",
       "       [30, 31, 32, 33, 34],\n",
       "       [35, 36, 37, 38, 39],\n",
       "       [40, 41, 42, 43, 44],\n",
       "       [45, 46, 47, 48, 49]])"
      ]
     },
     "execution_count": 97,
     "metadata": {},
     "output_type": "execute_result"
    }
   ],
   "source": [
    "kc.resize(10,5)\n",
    "kc"
   ]
  },
  {
   "cell_type": "code",
   "execution_count": 98,
   "id": "a6aa66f2",
   "metadata": {},
   "outputs": [
    {
     "data": {
      "text/plain": [
       "13"
      ]
     },
     "execution_count": 98,
     "metadata": {},
     "output_type": "execute_result"
    }
   ],
   "source": [
    "kc[2,3] #returns index position for rows and columns"
   ]
  },
  {
   "cell_type": "code",
   "execution_count": 99,
   "id": "24e72500",
   "metadata": {},
   "outputs": [
    {
     "data": {
      "text/plain": [
       "array([17, 18, 19])"
      ]
     },
     "execution_count": 99,
     "metadata": {},
     "output_type": "execute_result"
    }
   ],
   "source": [
    "kc[3, 2:6]"
   ]
  },
  {
   "cell_type": "code",
   "execution_count": 100,
   "id": "60a41c4d",
   "metadata": {},
   "outputs": [
    {
     "data": {
      "text/plain": [
       "array([[10, 11, 12, 13, 14],\n",
       "       [15, 16, 17, 18, 19],\n",
       "       [20, 21, 22, 23, 24],\n",
       "       [25, 26, 27, 28, 29],\n",
       "       [30, 31, 32, 33, 34],\n",
       "       [35, 36, 37, 38, 39],\n",
       "       [40, 41, 42, 43, 44],\n",
       "       [45, 46, 47, 48, 49]])"
      ]
     },
     "execution_count": 100,
     "metadata": {},
     "output_type": "execute_result"
    }
   ],
   "source": [
    "kc[2:]"
   ]
  },
  {
   "cell_type": "code",
   "execution_count": 101,
   "id": "45c5eed7",
   "metadata": {},
   "outputs": [
    {
     "data": {
      "text/plain": [
       "array([[12, 13, 14],\n",
       "       [17, 18, 19],\n",
       "       [22, 23, 24],\n",
       "       [27, 28, 29],\n",
       "       [32, 33, 34],\n",
       "       [37, 38, 39],\n",
       "       [42, 43, 44],\n",
       "       [47, 48, 49]])"
      ]
     },
     "execution_count": 101,
     "metadata": {},
     "output_type": "execute_result"
    }
   ],
   "source": [
    "kc[2:,2:]"
   ]
  },
  {
   "cell_type": "code",
   "execution_count": 102,
   "id": "c4fc2b3b",
   "metadata": {},
   "outputs": [
    {
     "data": {
      "text/plain": [
       "array([16, 17, 18, 19, 20, 21, 22, 23, 24, 25, 26, 27, 28, 29, 30, 31, 32,\n",
       "       33, 34, 35, 36, 37, 38, 39, 40, 41, 42, 43, 44, 45, 46, 47, 48, 49])"
      ]
     },
     "execution_count": 102,
     "metadata": {},
     "output_type": "execute_result"
    }
   ],
   "source": [
    "kc[kc > 15] #condiitonal formatting"
   ]
  },
  {
   "cell_type": "code",
   "execution_count": 104,
   "id": "59284e58",
   "metadata": {},
   "outputs": [
    {
     "data": {
      "text/plain": [
       "array([[ 0,  1,  2,  3,  4],\n",
       "       [ 5,  6,  7,  8,  9],\n",
       "       [10, 11, 12, 13, 14],\n",
       "       [15, 20, 20, 20, 20],\n",
       "       [20, 20, 20, 20, 20],\n",
       "       [20, 20, 20, 20, 20],\n",
       "       [20, 20, 20, 20, 20],\n",
       "       [20, 20, 20, 20, 20],\n",
       "       [20, 20, 20, 20, 20],\n",
       "       [20, 20, 20, 20, 20]])"
      ]
     },
     "execution_count": 104,
     "metadata": {},
     "output_type": "execute_result"
    }
   ],
   "source": [
    "kc[kc > 15] = 20 #casting all the values greater than 15 to 20\n",
    "kc"
   ]
  },
  {
   "cell_type": "code",
   "execution_count": 106,
   "id": "edfc915c",
   "metadata": {},
   "outputs": [
    {
     "data": {
      "text/plain": [
       "array([[ 0,  1,  2,  3,  4],\n",
       "       [ 5,  6,  7,  8,  9],\n",
       "       [10, 11, 12, 13, 14],\n",
       "       [15, 20, 20, 20, 20],\n",
       "       [20, 20, 20, 20, 20],\n",
       "       [20, 20, 20, 20, 20],\n",
       "       [20, 20, 20, 20, 20],\n",
       "       [20, 20, 20, 20, 20],\n",
       "       [20, 20, 20, 20, 20],\n",
       "       [20, 20, 20, 20, 20]])"
      ]
     },
     "execution_count": 106,
     "metadata": {},
     "output_type": "execute_result"
    }
   ],
   "source": [
    "kc"
   ]
  },
  {
   "cell_type": "code",
   "execution_count": 107,
   "id": "e9bb9cc2",
   "metadata": {},
   "outputs": [
    {
     "data": {
      "text/plain": [
       "array([ 9, 14, 20, 20, 20, 20, 20, 20, 20])"
      ]
     },
     "execution_count": 107,
     "metadata": {},
     "output_type": "execute_result"
    }
   ],
   "source": [
    "kc[1:, 4]"
   ]
  },
  {
   "cell_type": "code",
   "execution_count": 108,
   "id": "0b5aa2b5",
   "metadata": {},
   "outputs": [
    {
     "data": {
      "text/plain": [
       "array([20, 20, 20, 20, 20, 20, 20])"
      ]
     },
     "execution_count": 108,
     "metadata": {},
     "output_type": "execute_result"
    }
   ],
   "source": [
    "kc[3:, 2]"
   ]
  },
  {
   "cell_type": "code",
   "execution_count": null,
   "id": "34217891",
   "metadata": {},
   "outputs": [],
   "source": []
  },
  {
   "cell_type": "markdown",
   "id": "da36a8a6",
   "metadata": {},
   "source": [
    "## Creating a copy"
   ]
  },
  {
   "cell_type": "code",
   "execution_count": 110,
   "id": "ac8b375d",
   "metadata": {},
   "outputs": [
    {
     "data": {
      "text/plain": [
       "array([[ 0,  1,  2,  3,  4],\n",
       "       [ 5,  6,  7,  8,  9],\n",
       "       [10, 11, 12, 13, 14],\n",
       "       [15, 20, 20, 20, 20],\n",
       "       [20, 20, 20, 20, 20],\n",
       "       [20, 20, 20, 20, 20],\n",
       "       [20, 20, 20, 20, 20],\n",
       "       [20, 20, 20, 20, 20],\n",
       "       [20, 20, 20, 20, 20],\n",
       "       [20, 20, 20, 20, 20]])"
      ]
     },
     "execution_count": 110,
     "metadata": {},
     "output_type": "execute_result"
    }
   ],
   "source": [
    "kc_copy = kc.copy() #This creates a copy of the original data which you can now manipulate rather than the original\n",
    "kc_copy"
   ]
  },
  {
   "cell_type": "code",
   "execution_count": 111,
   "id": "6023843e",
   "metadata": {},
   "outputs": [
    {
     "data": {
      "text/plain": [
       "array([[ 0,  1,  2,  3,  4],\n",
       "       [ 5,  6,  7,  8,  9],\n",
       "       [10, 11, 12, 13, 14],\n",
       "       [15, 20, 20, 20, 20],\n",
       "       [20, 20, 20, 20, 20],\n",
       "       [20, 20, 20, 20, 20],\n",
       "       [20, 20, 20, 20, 20],\n",
       "       [20, 20, 20, 20, 20],\n",
       "       [20, 20, 20, 20, 20],\n",
       "       [20, 20, 20, 20, 20]])"
      ]
     },
     "execution_count": 111,
     "metadata": {},
     "output_type": "execute_result"
    }
   ],
   "source": [
    "kc"
   ]
  },
  {
   "cell_type": "markdown",
   "id": "edbd0809",
   "metadata": {},
   "source": [
    "### Broadcasting"
   ]
  },
  {
   "cell_type": "code",
   "execution_count": 114,
   "id": "1f58da51",
   "metadata": {},
   "outputs": [
    {
     "data": {
      "text/plain": [
       "array([[ 0,  1,  2,  3,  4],\n",
       "       [ 5,  6,  7,  8,  9],\n",
       "       [10, 11, 12, 13, 14],\n",
       "       [15, 15, 15, 15, 15],\n",
       "       [15, 15, 15, 15, 15],\n",
       "       [15, 15, 15, 15, 15],\n",
       "       [15, 15, 15, 15, 15],\n",
       "       [15, 15, 15, 15, 15],\n",
       "       [15, 15, 15, 15, 15],\n",
       "       [15, 15, 15, 15, 15]])"
      ]
     },
     "execution_count": 114,
     "metadata": {},
     "output_type": "execute_result"
    }
   ],
   "source": [
    "kc_copy[kc_copy > 15] = 15\n",
    "kc_copy"
   ]
  },
  {
   "cell_type": "code",
   "execution_count": 115,
   "id": "d3706909",
   "metadata": {},
   "outputs": [
    {
     "data": {
      "text/plain": [
       "array([[ 0,  1,  2,  3,  4],\n",
       "       [ 5,  6,  7,  8,  9],\n",
       "       [10, 11, 12, 13, 14],\n",
       "       [15, 20, 20, 20, 20],\n",
       "       [20, 20, 20, 20, 20],\n",
       "       [20, 20, 20, 20, 20],\n",
       "       [20, 20, 20, 20, 20],\n",
       "       [20, 20, 20, 20, 20],\n",
       "       [20, 20, 20, 20, 20],\n",
       "       [20, 20, 20, 20, 20]])"
      ]
     },
     "execution_count": 115,
     "metadata": {},
     "output_type": "execute_result"
    }
   ],
   "source": [
    "kc"
   ]
  },
  {
   "cell_type": "code",
   "execution_count": null,
   "id": "cd16a457",
   "metadata": {},
   "outputs": [],
   "source": []
  },
  {
   "cell_type": "markdown",
   "id": "d53f7e14",
   "metadata": {},
   "source": [
    "### Matrix"
   ]
  },
  {
   "cell_type": "code",
   "execution_count": 116,
   "id": "af77a173",
   "metadata": {},
   "outputs": [
    {
     "data": {
      "text/plain": [
       "array([[ 20,   4,   7,   3],\n",
       "       [ 88,   9,   2,   6],\n",
       "       [102,  57,  11,  31],\n",
       "       [ 19,  99,   1,  14]])"
      ]
     },
     "execution_count": 116,
     "metadata": {},
     "output_type": "execute_result"
    }
   ],
   "source": [
    "#Creating a multidimensional array\n",
    "my_matrix = np.array(([20,4,7,3], [88,9,2,6], [102,57,11,31], [19,99,1,14]))\n",
    "my_matrix"
   ]
  },
  {
   "cell_type": "code",
   "execution_count": 120,
   "id": "f24398f6",
   "metadata": {},
   "outputs": [
    {
     "data": {
      "text/plain": [
       "matrix([[5, 6, 7],\n",
       "        [3, 1, 9]])"
      ]
     },
     "execution_count": 120,
     "metadata": {},
     "output_type": "execute_result"
    }
   ],
   "source": [
    "#Creating a matrix\n",
    "matrix = np.matrix([[5,6,7], [3,1,9]])\n",
    "matrix"
   ]
  },
  {
   "cell_type": "code",
   "execution_count": 121,
   "id": "f7803f23",
   "metadata": {},
   "outputs": [
    {
     "data": {
      "text/plain": [
       "9"
      ]
     },
     "execution_count": 121,
     "metadata": {},
     "output_type": "execute_result"
    }
   ],
   "source": [
    "matrix[1,2]"
   ]
  },
  {
   "cell_type": "code",
   "execution_count": 122,
   "id": "1db8e412",
   "metadata": {},
   "outputs": [
    {
     "data": {
      "text/plain": [
       "5.166666666666667"
      ]
     },
     "execution_count": 122,
     "metadata": {},
     "output_type": "execute_result"
    }
   ],
   "source": [
    "matrix.mean()"
   ]
  },
  {
   "cell_type": "code",
   "execution_count": 123,
   "id": "45990d32",
   "metadata": {},
   "outputs": [
    {
     "data": {
      "text/plain": [
       "2.608745973749755"
      ]
     },
     "execution_count": 123,
     "metadata": {},
     "output_type": "execute_result"
    }
   ],
   "source": [
    "matrix.std()"
   ]
  },
  {
   "cell_type": "code",
   "execution_count": 124,
   "id": "a1e4cd39",
   "metadata": {},
   "outputs": [
    {
     "data": {
      "text/plain": [
       "6.805555555555556"
      ]
     },
     "execution_count": 124,
     "metadata": {},
     "output_type": "execute_result"
    }
   ],
   "source": [
    "matrix.var()"
   ]
  },
  {
   "cell_type": "code",
   "execution_count": null,
   "id": "5cef6d33",
   "metadata": {},
   "outputs": [],
   "source": []
  }
 ],
 "metadata": {
  "kernelspec": {
   "display_name": "Python 3 (ipykernel)",
   "language": "python",
   "name": "python3"
  },
  "language_info": {
   "codemirror_mode": {
    "name": "ipython",
    "version": 3
   },
   "file_extension": ".py",
   "mimetype": "text/x-python",
   "name": "python",
   "nbconvert_exporter": "python",
   "pygments_lexer": "ipython3",
   "version": "3.9.12"
  }
 },
 "nbformat": 4,
 "nbformat_minor": 5
}
